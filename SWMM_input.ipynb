{
 "cells": [
  {
   "cell_type": "code",
   "execution_count": 1,
   "metadata": {},
   "outputs": [
    {
     "name": "stderr",
     "output_type": "stream",
     "text": [
      "/Users/niranjan/opt/anaconda3/lib/python3.9/site-packages/geopandas/_compat.py:124: UserWarning: The Shapely GEOS version (3.11.1-CAPI-1.17.1) is incompatible with the GEOS version PyGEOS was compiled with (3.10.4-CAPI-1.16.2). Conversions between both will be slow.\n",
      "  warnings.warn(\n",
      "/var/folders/_1/mh7vhs1d5zz3475l0s3f31ww0000gn/T/ipykernel_7275/3710545589.py:3: DeprecationWarning: Shapely 2.0 is installed, but because PyGEOS is also installed, GeoPandas still uses PyGEOS by default. However, starting with version 0.14, the default will switch to Shapely. To force to use Shapely 2.0 now, you can either uninstall PyGEOS or set the environment variable USE_PYGEOS=0. You can do this before starting the Python process, or in your code before importing geopandas:\n",
      "\n",
      "import os\n",
      "os.environ['USE_PYGEOS'] = '0'\n",
      "import geopandas\n",
      "\n",
      "In the next release, GeoPandas will switch to using Shapely by default, even if PyGEOS is installed. If you only have PyGEOS installed to get speed-ups, this switch should be smooth. However, if you are using PyGEOS directly (calling PyGEOS functions on geometries from GeoPandas), this will then stop working and you are encouraged to migrate from PyGEOS to Shapely 2.0 (https://shapely.readthedocs.io/en/latest/migration_pygeos.html).\n",
      "  import geopandas as gpd\n"
     ]
    }
   ],
   "source": [
    "import numpy as np\n",
    "import matplotlib.pyplot as plt\n",
    "import geopandas as gpd\n",
    "from pyswmm import Simulation, Nodes, Links"
   ]
  },
  {
   "cell_type": "code",
   "execution_count": 2,
   "metadata": {},
   "outputs": [
    {
     "name": "stdout",
     "output_type": "stream",
     "text": [
      "swmm_api version: 0.4.25\n"
     ]
    }
   ],
   "source": [
    "from swmm_api import __version__\n",
    "print('swmm_api version:', __version__)"
   ]
  },
  {
   "cell_type": "code",
   "execution_count": 3,
   "metadata": {},
   "outputs": [],
   "source": [
    "from swmm_api.input_file import read_inp_file, SwmmInput, section_labels as sections\n",
    "from swmm_api.input_file.sections import Outfall,Coordinate,SubCatchment,Conduit,Weir,Junction, Storage, Curve\n",
    "from swmm_api.input_file.helpers import InpSection"
   ]
  },
  {
   "cell_type": "code",
   "execution_count": 22,
   "metadata": {},
   "outputs": [
    {
     "name": "stdout",
     "output_type": "stream",
     "text": [
      "Index(['x0', 'y0', 'x1', 'y1', 'name', 'elev_in', 'elev_out', 'length',\n",
      "       'junc_in', 'junc_out', 'roughness', 'elev_in_of', 'elev_ou_of', 'Link',\n",
      "       'Cshape', 'Geom1', 'Geom2', 'Geom3', 'Geom4', 'Barrels', 'Culvert',\n",
      "       'geometry'],\n",
      "      dtype='object')\n",
      "0     0.015\n",
      "1     0.015\n",
      "2     0.015\n",
      "3     0.015\n",
      "4     0.015\n",
      "5     0.015\n",
      "6     0.015\n",
      "7     0.015\n",
      "8     0.015\n",
      "9     0.015\n",
      "10    0.015\n",
      "11    0.015\n",
      "12    0.015\n",
      "Name: roughness, dtype: float64\n"
     ]
    },
    {
     "data": {
      "image/png": "[encoded data removed]",
      "text/plain": [
       "<Figure size 432x288 with 1 Axes>"
      ]
     },
     "metadata": {
      "needs_background": "light"
     },
     "output_type": "display_data"
    }
   ],
   "source": [
    "gdf_conduits = gpd.read_file('conduits.shp')\n",
    "gdf_conduits.plot()\n",
    "print(gdf_conduits.columns)\n",
    "print(gdf_conduits['roughness'])"
   ]
  },
  {
   "cell_type": "code",
   "execution_count": 5,
   "metadata": {},
   "outputs": [
    {
     "name": "stdout",
     "output_type": "stream",
     "text": [
      "Help on function __init__ in module swmm_api.input_file.sections.link:\n",
      "\n",
      "__init__(self, name, from_node, to_node, length, roughness, offset_upstream=0, offset_downstream=0, flow_initial=0, flow_max=nan)\n",
      "    Conduit link information.\n",
      "    \n",
      "    Args:\n",
      "        name (str): Name assigned to conduit link.\n",
      "        from_node (str): Name of upstream node.\n",
      "        to_node (str): Name of downstream node.\n",
      "        length (float): Conduit length (ft or m).\n",
      "        roughness (float): Value of n (i.e., roughness parameter) in Manning’s equation.\n",
      "        offset_upstream (float): offset of upstream end of conduit invert above the invert elevation of its\n",
      "                                 upstream node (ft or m).\n",
      "        offset_downstream (float): Offset of downstream end of conduit invert above the invert elevation of its\n",
      "                                   downstream node (ft or m).\n",
      "        flow_initial (float): Flow in conduit at start of simulation (flow units) (default is 0).\n",
      "        flow_max (float): Maximum flow allowed in the conduit (flow units) (default is no limit | 0 = no limit).\n",
      "\n"
     ]
    }
   ],
   "source": [
    "help(Conduit.__init__)"
   ]
  },
  {
   "cell_type": "code",
   "execution_count": 6,
   "metadata": {},
   "outputs": [],
   "source": [
    "conduit_section = Conduit.create_section(gdf_conduits[['name', 'junc_in', 'junc_out', 'length', 'roughness', 'elev_in_of', 'elev_ou_of']].values)"
   ]
  },
  {
   "cell_type": "code",
   "execution_count": 7,
   "metadata": {},
   "outputs": [],
   "source": [
    "from swmm_api import SwmmInput\n",
    "inp = SwmmInput()"
   ]
  },
  {
   "cell_type": "code",
   "execution_count": 8,
   "metadata": {},
   "outputs": [],
   "source": [
    "inp.add_new_section(conduit_section)"
   ]
  },
  {
   "cell_type": "code",
   "execution_count": 9,
   "metadata": {},
   "outputs": [],
   "source": [
    "from swmm_api.input_file.sections import Vertices\n",
    "\n",
    "inp.add_new_section(Vertices.create_section_from_geoseries(gdf_conduits.set_index('name').geometry))"
   ]
  },
  {
   "cell_type": "code",
   "execution_count": 10,
   "metadata": {},
   "outputs": [],
   "source": [
    "from swmm_api.input_file.sections import Tag\n",
    "\n",
    "gdf_conduits['kind'] = Tag.TYPES.Link\n",
    "\n",
    "# We create just for this example new tags:\n",
    "gdf_conduits['tag'] = f'Tag for {Tag.TYPES.Link} ' + gdf_conduits[\"name\"]\n",
    "\n",
    "inp.add_new_section(Tag.create_section(gdf_conduits[['kind', 'name', 'tag']].values))"
   ]
  },
  {
   "cell_type": "code",
   "execution_count": 11,
   "metadata": {},
   "outputs": [
    {
     "data": {
      "text/plain": [
       "'GisToSWMM5_example.inp'"
      ]
     },
     "execution_count": 11,
     "metadata": {},
     "output_type": "execute_result"
    }
   ],
   "source": [
    "inp.write_file('GisToSWMM5_example.inp')"
   ]
  },
  {
   "cell_type": "code",
   "execution_count": 12,
   "metadata": {},
   "outputs": [
    {
     "name": "stdout",
     "output_type": "stream",
     "text": [
      "Help on function __init__ in module swmm_api.input_file.sections.node:\n",
      "\n",
      "__init__(self, name, elevation, depth_max=0, depth_init=0, depth_surcharge=0, area_ponded=0)\n",
      "    Junction node information.\n",
      "    \n",
      "    Args:\n",
      "        name (str): Name assigned to junction node.\n",
      "        elevation (float): Elevation of junction invert (ft or m).\n",
      "        depth_max (float): Depth from ground to invert elevation (ft or m) (default is 0).\n",
      "        depth_init (float): Water depth at start of simulation (ft or m) (default is 0).\n",
      "        depth_surcharge (float): Maximum additional pressure head above ground elevation that manhole junction can sustain under surcharge conditions (ft or m) (default is 0).\n",
      "        area_ponded (float): Area subjected to surface ponding once water depth exceeds :attr:`Junction.depth_max` + :attr:`Junction.depth_surcharge` (ft2 or m2) (default is 0).\n",
      "\n"
     ]
    }
   ],
   "source": [
    "help(Junction.__init__)"
   ]
  },
  {
   "cell_type": "code",
   "execution_count": 23,
   "metadata": {},
   "outputs": [
    {
     "name": "stdout",
     "output_type": "stream",
     "text": [
      "Help on function __init__ in module swmm_api.input_file.sections.node:\n",
      "\n",
      "__init__(self, name, elevation, kind, *args, data=nan, has_flap_gate=False, route_to=nan)\n",
      "    Outfall node information.\n",
      "    \n",
      "    Args:\n",
      "        name (str): name assigned to outfall node.\n",
      "        elevation (float): invert elevation (ft or m).\n",
      "        kind (str): one of ``FREE``, ``NORMAL``, ``FIXED``, ``TIDAL``, ``TIMESERIES`` (or use :attr:`Outfall.TYPES`)\n",
      "        *args: -Arguments below- (for automatic input file reader.)\n",
      "        data (float | str): one of the following\n",
      "    \n",
      "            - Stage (float): elevation of fixed stage outfall (ft or m). (for ``FIXED``-Type)\n",
      "            - Tcurve (str): name of curve in [``CURVES``] section (:class:`Curve`) containing tidal height (i.e., outfall stage) v. hour of day over a complete tidal cycle. (for ``TIDAL``-Type)\n",
      "            - Tseries (str): name of time series in [``TIMESERIES``] section (:class:`Timeseries`) that describes how outfall stage varies with time. (for ``TIMESERIES``-Type)\n",
      "    \n",
      "        has_flap_gate (bool): ``YES`` (:obj:`True`) or ``NO`` (:obj:`False`) depending on whether a flap gate is present that prevents reverse flow. The default is ``NO``.\n",
      "        route_to (str): name of a subcatchment that receives the outfall's discharge. The default is not to route the outfall’s discharge.\n",
      "\n"
     ]
    }
   ],
   "source": [
    "help(Outfall.__init__)"
   ]
  },
  {
   "cell_type": "code",
   "execution_count": 13,
   "metadata": {},
   "outputs": [
    {
     "name": "stdout",
     "output_type": "stream",
     "text": [
      "Help on function __init__ in module swmm_api.input_file.sections.node_component:\n",
      "\n",
      "__init__(self, node, x, y)\n",
      "    X,Y coordinates for nodes.\n",
      "    \n",
      "    Args:\n",
      "        node (str): name of node.\n",
      "        x (float): horizontal coordinate relative to origin in lower left of map.\n",
      "        y (float): vertical coordinate relative to origin in lower left of map.\n",
      "\n"
     ]
    }
   ],
   "source": [
    "help(Coordinate.__init__)"
   ]
  },
  {
   "cell_type": "code",
   "execution_count": 14,
   "metadata": {},
   "outputs": [
    {
     "name": "stdout",
     "output_type": "stream",
     "text": [
      "Help on function __init__ in module swmm_api.input_file.sections.node:\n",
      "\n",
      "__init__(self, name, elevation, depth_max, depth_init, kind, *args, data=None, depth_surcharge=0.0, frac_evaporation=0.0, suction_head=nan, hydraulic_conductivity=nan, moisture_deficit_init=nan)\n",
      "    Storage node information.\n",
      "    \n",
      "    Args:\n",
      "         name (str): Name assigned to storage node.\n",
      "         elevation (float): Node's invert elevation (ft or m).\n",
      "         depth_max (float): Maximum water depth possible (ft or m).\n",
      "         depth_init (float): Water depth at the start of the simulation (ft or m).\n",
      "         kind (str): One of :attr:`Storage.TYPES` (``TABULAR`` | ``FUNCTIONAL``) or :attr:`Storage.SHAPES` ( ``CYLINDRICAL`` | ``CONICAL`` | ``PARABOLOID`` | ``PYRAMIDAL``)\n",
      "         *args: -Arguments below- (for automatic input file reader.)\n",
      "         data (str | list):\n",
      "    \n",
      "            - :obj:`str`: name of curve in [``CURVES``] section with surface area (ft2 or m2) as a function of depth (ft or m) for ``TABULAR`` geometry.\n",
      "            - :obj:`list`: ``FUNCTIONAL`` relation between surface area and depth with\n",
      "    \n",
      "                - A1 (:obj:`float`): coefficient\n",
      "                - A2 (:obj:`float`): exponent\n",
      "                - A0 (:obj:`float`): constant\n",
      "    \n",
      "         depth_surcharge (float): maximum additional pressure head above full depth that a closed storage unit can sustain under surcharge conditions (ft or m) (default is 0).\n",
      "         frac_evaporation (float): fraction of potential evaporation from the storage unit’s water surface realized (default is 0).\n",
      "         suction_head (float): Soil suction head (inches or mm).\n",
      "         hydraulic_conductivity (float): Soil saturated hydraulic conductivity (in/hr or mm/hr).\n",
      "         moisture_deficit_init (float): Soil initial moisture deficit (porosity minus moisture content) (fraction).\n",
      "\n"
     ]
    }
   ],
   "source": [
    "help(Storage.__init__)"
   ]
  },
  {
   "cell_type": "code",
   "execution_count": 15,
   "metadata": {},
   "outputs": [
    {
     "name": "stdout",
     "output_type": "stream",
     "text": [
      "Help on function __init__ in module swmm_api.input_file.sections.link:\n",
      "\n",
      "__init__(self, name, from_node, to_node, length, roughness, offset_upstream=0, offset_downstream=0, flow_initial=0, flow_max=nan)\n",
      "    Conduit link information.\n",
      "    \n",
      "    Args:\n",
      "        name (str): Name assigned to conduit link.\n",
      "        from_node (str): Name of upstream node.\n",
      "        to_node (str): Name of downstream node.\n",
      "        length (float): Conduit length (ft or m).\n",
      "        roughness (float): Value of n (i.e., roughness parameter) in Manning’s equation.\n",
      "        offset_upstream (float): offset of upstream end of conduit invert above the invert elevation of its\n",
      "                                 upstream node (ft or m).\n",
      "        offset_downstream (float): Offset of downstream end of conduit invert above the invert elevation of its\n",
      "                                   downstream node (ft or m).\n",
      "        flow_initial (float): Flow in conduit at start of simulation (flow units) (default is 0).\n",
      "        flow_max (float): Maximum flow allowed in the conduit (flow units) (default is no limit | 0 = no limit).\n",
      "\n"
     ]
    }
   ],
   "source": [
    "help(Conduit.__init__)"
   ]
  },
  {
   "cell_type": "code",
   "execution_count": 16,
   "metadata": {},
   "outputs": [
    {
     "name": "stdout",
     "output_type": "stream",
     "text": [
      "Help on function __init__ in module swmm_api.input_file.sections.link_component:\n",
      "\n",
      "__init__(self, link, vertices)\n",
      "    X,Y coordinates for each interior vertex of polyline links.\n",
      "    \n",
      "    Args:\n",
      "        link (str): Name of link.\n",
      "        vertices (list[list[float, float]]): Vertices relative to origin in lower left of map.\n",
      "    \n",
      "            - x_coord: horizontal (x-)coordinate\n",
      "            - y_coord: vertical (y-)coordinate\n",
      "\n"
     ]
    }
   ],
   "source": [
    "help(Vertices.__init__)"
   ]
  },
  {
   "cell_type": "code",
   "execution_count": 17,
   "metadata": {},
   "outputs": [
    {
     "name": "stdout",
     "output_type": "stream",
     "text": [
      "Help on function __init__ in module swmm_api.input_file.sections.others:\n",
      "\n",
      "__init__(self, name, kind, points)\n",
      "    X-Y tabular data referenced in other sections.\n",
      "    \n",
      "    Args:\n",
      "        name (str): Name assigned to table.\n",
      "        kind (str): One of ``STORAGE`` / ``SHAPE`` / ``DIVERSION`` / ``TIDAL`` / ``PUMP1`` / ``PUMP2`` / ``PUMP3`` / `PUMP4`` / ``RATING`` / ``CONTROL`` (:attr:`Curve.TYPES`).\n",
      "        points (list[list[float, float]]): tuple of X-value (an independent variable) and the corresponding Y-value (a dependent variable)\n",
      "\n"
     ]
    }
   ],
   "source": [
    "help(Curve.__init__)"
   ]
  }
 ],
 "metadata": {
  "kernelspec": {
   "display_name": "base",
   "language": "python",
   "name": "python3"
  },
  "language_info": {
   "codemirror_mode": {
    "name": "ipython",
    "version": 3
   },
   "file_extension": ".py",
   "mimetype": "text/x-python",
   "name": "python",
   "nbconvert_exporter": "python",
   "pygments_lexer": "ipython3",
   "version": "3.9.12"
  },
  "orig_nbformat": 4
 },
 "nbformat": 4,
 "nbformat_minor": 2
}
